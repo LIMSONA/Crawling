{
  "nbformat": 4,
  "nbformat_minor": 0,
  "metadata": {
    "colab": {
      "name": "4.progect_3_selenium.ipynb",
      "provenance": [],
      "mount_file_id": "11rvQdpQ0ZkbrQAHI0TUKNQELJk-HuIaJ",
      "authorship_tag": "ABX9TyMgH+LivjRfuz6/EEh5r8Za",
      "include_colab_link": true
    },
    "kernelspec": {
      "name": "python3",
      "display_name": "Python 3"
    },
    "language_info": {
      "name": "python"
    }
  },
  "cells": [
    {
      "cell_type": "markdown",
      "metadata": {
        "id": "view-in-github",
        "colab_type": "text"
      },
      "source": [
        "<a href=\"https://colab.research.google.com/github/LIMSONA/Crawling_study/blob/main/4_progect_3_selenium.ipynb\" target=\"_parent\"><img src=\"https://colab.research.google.com/assets/colab-badge.svg\" alt=\"Open In Colab\"/></a>"
      ]
    },
    {
      "cell_type": "markdown",
      "source": [
        "* 네이버 쇼핑 사이트에서 상품정보를 크롤링해서 엑셀에 저장\n",
        "* 적용: 경쟁사 분석 - 쇼핑몰운영자, 마케팅관련 종사자"
      ],
      "metadata": {
        "id": "q3ysA-DGhZer"
      }
    },
    {
      "cell_type": "markdown",
      "source": [
        "# **셀레니움 라이브러리**"
      ],
      "metadata": {
        "id": "pLtSbKeQh3Cy"
      }
    },
    {
      "cell_type": "markdown",
      "source": [
        "셀레니움 라이브러리를 사용하는 이유? --> requests의 한계로 인해 사용한다.\n",
        "  * 로그인이 필요한 사이트\n",
        "  * 동적으로 html을 만드는 경우 (동적: 서버에서 정보를 가지고 올 떄 페이지 전체가 아닌 특정한 부분만 바꾸는 것  ex)페이지 더보기 )\n",
        "    - 스크롤하거나 클릭하면 데이터가 생성됨\n",
        "    - URL 주소가 변경되지 않았는데 데이터가 변함\n",
        "    - 표, 테이블 형태의 데이터"
      ],
      "metadata": {
        "id": "LrQxA9PJiKyx"
      }
    },
    {
      "cell_type": "markdown",
      "source": [
        "셀레니움이란?\n",
        "  * 웹 어플리케이션 테스트를 위한 도구\n",
        "  * 브라우저를 실제로 띄워서 사람처럼 동작하도록 만들 수 있다.\n",
        "\n",
        "\n",
        "셀레니움 기초 사용법\n",
        "  * 크롬 드라이버 다운로드\n",
        "  * 라이브러리 설치 pip install selenium\n"
      ],
      "metadata": {
        "id": "I-wGNSLjO8tg"
      }
    },
    {
      "cell_type": "code",
      "source": [
        "pip install selenium"
      ],
      "metadata": {
        "colab": {
          "base_uri": "https://localhost:8080/"
        },
        "id": "ne-7RXSHiS6R",
        "outputId": "40b9221a-89cf-44fc-f09c-d054bffc2749"
      },
      "execution_count": null,
      "outputs": [
        {
          "output_type": "stream",
          "name": "stdout",
          "text": [
            "Collecting selenium\n",
            "  Downloading selenium-4.1.0-py3-none-any.whl (958 kB)\n",
            "\u001b[K     |████████████████████████████████| 958 kB 28.3 MB/s \n",
            "\u001b[?25hCollecting trio~=0.17\n",
            "  Downloading trio-0.19.0-py3-none-any.whl (356 kB)\n",
            "\u001b[K     |████████████████████████████████| 356 kB 53.6 MB/s \n",
            "\u001b[?25hCollecting urllib3[secure]~=1.26\n",
            "  Downloading urllib3-1.26.7-py2.py3-none-any.whl (138 kB)\n",
            "\u001b[K     |████████████████████████████████| 138 kB 69.8 MB/s \n",
            "\u001b[?25hCollecting trio-websocket~=0.9\n",
            "  Downloading trio_websocket-0.9.2-py3-none-any.whl (16 kB)\n",
            "Collecting outcome\n",
            "  Downloading outcome-1.1.0-py2.py3-none-any.whl (9.7 kB)\n",
            "Requirement already satisfied: attrs>=19.2.0 in /usr/local/lib/python3.7/dist-packages (from trio~=0.17->selenium) (21.2.0)\n",
            "Collecting async-generator>=1.9\n",
            "  Downloading async_generator-1.10-py3-none-any.whl (18 kB)\n",
            "Requirement already satisfied: idna in /usr/local/lib/python3.7/dist-packages (from trio~=0.17->selenium) (2.10)\n",
            "Collecting sniffio\n",
            "  Downloading sniffio-1.2.0-py3-none-any.whl (10 kB)\n",
            "Requirement already satisfied: sortedcontainers in /usr/local/lib/python3.7/dist-packages (from trio~=0.17->selenium) (2.4.0)\n",
            "Collecting wsproto>=0.14\n",
            "  Downloading wsproto-1.0.0-py3-none-any.whl (24 kB)\n",
            "Collecting cryptography>=1.3.4\n",
            "  Downloading cryptography-36.0.0-cp36-abi3-manylinux_2_24_x86_64.whl (3.6 MB)\n",
            "\u001b[K     |████████████████████████████████| 3.6 MB 51.2 MB/s \n",
            "\u001b[?25hRequirement already satisfied: certifi in /usr/local/lib/python3.7/dist-packages (from urllib3[secure]~=1.26->selenium) (2021.10.8)\n",
            "Collecting pyOpenSSL>=0.14\n",
            "  Downloading pyOpenSSL-21.0.0-py2.py3-none-any.whl (55 kB)\n",
            "\u001b[K     |████████████████████████████████| 55 kB 3.8 MB/s \n",
            "\u001b[?25hRequirement already satisfied: cffi>=1.12 in /usr/local/lib/python3.7/dist-packages (from cryptography>=1.3.4->urllib3[secure]~=1.26->selenium) (1.15.0)\n",
            "Requirement already satisfied: pycparser in /usr/local/lib/python3.7/dist-packages (from cffi>=1.12->cryptography>=1.3.4->urllib3[secure]~=1.26->selenium) (2.21)\n",
            "Requirement already satisfied: six>=1.5.2 in /usr/local/lib/python3.7/dist-packages (from pyOpenSSL>=0.14->urllib3[secure]~=1.26->selenium) (1.15.0)\n",
            "Collecting h11<1,>=0.9.0\n",
            "  Downloading h11-0.12.0-py3-none-any.whl (54 kB)\n",
            "\u001b[K     |████████████████████████████████| 54 kB 3.5 MB/s \n",
            "\u001b[?25hInstalling collected packages: sniffio, outcome, h11, cryptography, async-generator, wsproto, urllib3, trio, pyOpenSSL, trio-websocket, selenium\n",
            "  Attempting uninstall: urllib3\n",
            "    Found existing installation: urllib3 1.24.3\n",
            "    Uninstalling urllib3-1.24.3:\n",
            "      Successfully uninstalled urllib3-1.24.3\n",
            "\u001b[31mERROR: pip's dependency resolver does not currently take into account all the packages that are installed. This behaviour is the source of the following dependency conflicts.\n",
            "requests 2.23.0 requires urllib3!=1.25.0,!=1.25.1,<1.26,>=1.21.1, but you have urllib3 1.26.7 which is incompatible.\n",
            "datascience 0.10.6 requires folium==0.2.1, but you have folium 0.8.3 which is incompatible.\u001b[0m\n",
            "Successfully installed async-generator-1.10 cryptography-36.0.0 h11-0.12.0 outcome-1.1.0 pyOpenSSL-21.0.0 selenium-4.1.0 sniffio-1.2.0 trio-0.19.0 trio-websocket-0.9.2 urllib3-1.26.7 wsproto-1.0.0\n"
          ]
        }
      ]
    },
    {
      "cell_type": "code",
      "source": [
        "pip install --upgrade selenium"
      ],
      "metadata": {
        "colab": {
          "base_uri": "https://localhost:8080/"
        },
        "id": "Ol6IfyMYPYV-",
        "outputId": "3c10d4ac-5522-4d4c-dbfc-b8178ef4627d"
      },
      "execution_count": null,
      "outputs": [
        {
          "output_type": "stream",
          "name": "stdout",
          "text": [
            "Requirement already satisfied: selenium in /usr/local/lib/python3.7/dist-packages (4.1.0)\n",
            "Requirement already satisfied: trio-websocket~=0.9 in /usr/local/lib/python3.7/dist-packages (from selenium) (0.9.2)\n",
            "Requirement already satisfied: trio~=0.17 in /usr/local/lib/python3.7/dist-packages (from selenium) (0.19.0)\n",
            "Requirement already satisfied: urllib3[secure]~=1.26 in /usr/local/lib/python3.7/dist-packages (from selenium) (1.26.7)\n",
            "Requirement already satisfied: sortedcontainers in /usr/local/lib/python3.7/dist-packages (from trio~=0.17->selenium) (2.4.0)\n",
            "Requirement already satisfied: attrs>=19.2.0 in /usr/local/lib/python3.7/dist-packages (from trio~=0.17->selenium) (21.2.0)\n",
            "Requirement already satisfied: idna in /usr/local/lib/python3.7/dist-packages (from trio~=0.17->selenium) (2.10)\n",
            "Requirement already satisfied: outcome in /usr/local/lib/python3.7/dist-packages (from trio~=0.17->selenium) (1.1.0)\n",
            "Requirement already satisfied: sniffio in /usr/local/lib/python3.7/dist-packages (from trio~=0.17->selenium) (1.2.0)\n",
            "Requirement already satisfied: async-generator>=1.9 in /usr/local/lib/python3.7/dist-packages (from trio~=0.17->selenium) (1.10)\n",
            "Requirement already satisfied: wsproto>=0.14 in /usr/local/lib/python3.7/dist-packages (from trio-websocket~=0.9->selenium) (1.0.0)\n",
            "Requirement already satisfied: pyOpenSSL>=0.14 in /usr/local/lib/python3.7/dist-packages (from urllib3[secure]~=1.26->selenium) (21.0.0)\n",
            "Requirement already satisfied: certifi in /usr/local/lib/python3.7/dist-packages (from urllib3[secure]~=1.26->selenium) (2021.10.8)\n",
            "Requirement already satisfied: cryptography>=1.3.4 in /usr/local/lib/python3.7/dist-packages (from urllib3[secure]~=1.26->selenium) (36.0.0)\n",
            "Requirement already satisfied: cffi>=1.12 in /usr/local/lib/python3.7/dist-packages (from cryptography>=1.3.4->urllib3[secure]~=1.26->selenium) (1.15.0)\n",
            "Requirement already satisfied: pycparser in /usr/local/lib/python3.7/dist-packages (from cffi>=1.12->cryptography>=1.3.4->urllib3[secure]~=1.26->selenium) (2.21)\n",
            "Requirement already satisfied: six>=1.5.2 in /usr/local/lib/python3.7/dist-packages (from pyOpenSSL>=0.14->urllib3[secure]~=1.26->selenium) (1.15.0)\n",
            "Requirement already satisfied: h11<1,>=0.9.0 in /usr/local/lib/python3.7/dist-packages (from wsproto>=0.14->trio-websocket~=0.9->selenium) (0.12.0)\n"
          ]
        }
      ]
    },
    {
      "cell_type": "markdown",
      "source": [
        "## 셀레니움 기초 사용법"
      ],
      "metadata": {
        "id": "YZ8tXIlwiBXR"
      }
    },
    {
      "cell_type": "code",
      "source": [
        "from selenium import webdriver\n",
        "import time\n",
        "from selenium.webdriver.common.keys import Keys\n",
        "\n",
        "#브라우저 생성\n",
        "browser = webdriver.Chrome(\"C:/chromedriver.exe\")\n",
        "\n",
        "#웹사이트 열기\n",
        "browser.get('http://www.naver.com')\n",
        "browser.implicitly_wait(10)  #로딩이 끝날 때까지 10초까지는 기다려줌\n",
        "\n",
        "#쇼핑 메뉴 클릭\n",
        "browser.find_element_by_css_selector(\"a.nav.shop\").click()\n",
        "time.sleep(2) #쇼핑메뉴 클릭 되기전에 검색창 클릭하는게 수행될수 있으니 써준다\n",
        "\n",
        "\n",
        "#검색창 클릭\n",
        "search = browser.find_element_by_css_selector('input.co_srh_input._input')\n",
        "search.click()\n",
        "\n",
        "search.send_keys('아이폰13')\n",
        "search.send_keys(Keys.ENTER)"
      ],
      "metadata": {
        "id": "6GULSFROiQth"
      },
      "execution_count": null,
      "outputs": []
    },
    {
      "cell_type": "markdown",
      "source": [
        "## 셀레니움 무한 스크롤 처리 방법"
      ],
      "metadata": {
        "id": "cdauXopqiDPB"
      }
    },
    {
      "cell_type": "markdown",
      "source": [
        "* 현재 스크롤된 높이를 알 수 있는 자바 스크립트 명령어를 이용한다\n",
        "* window.scrollY"
      ],
      "metadata": {
        "id": "Rz1zGv-XHTko"
      }
    },
    {
      "cell_type": "markdown",
      "source": [
        "* 참고 : F12 개발자도구에서 -> Console(명령프롬프트 창)\n",
        "명령프롬프트란 명령어를 직접 입력해서 바로 대답을 주는 프로그램"
      ],
      "metadata": {
        "id": "aJ6Wk7jtiRBh"
      }
    },
    {
      "cell_type": "markdown",
      "source": [
        "### 네이버 > 쇼핑 페이지 > 아이폰 13 찾기\n",
        "\n"
      ],
      "metadata": {
        "id": "EK7or2A0K09G"
      }
    },
    {
      "cell_type": "code",
      "source": [
        "from selenium import webdriver\n",
        "import time\n",
        "from selenium.webdriver.common.keys import Keys\n",
        "\n",
        "#브라우저 생성하기! (Chromedriver 경로찾기)\n",
        "browser = webdriver.Chrome(\"C:/chromedriver.exe\")\n",
        "\n",
        "#웹사이트 열기\n",
        "browser.get('http://www.naver.com')\n",
        "browser.implicitly_wait(10)  #로딩이 끝날 때까지 10초까지는 기다려줌\n",
        "\n",
        "#쇼핑 메뉴 클릭\n",
        "browser.find_element_by_css_selector(\"a.nav.shop\").click()\n",
        "time.sleep(2) #쇼핑메뉴 클릭 되기전에 검색창 클릭하는게 수행될수 있으니 써준다\n",
        "\n",
        "\n",
        "#검색창 클릭\n",
        "search = browser.find_element_by_css_selector('input.co_srh_input._input')\n",
        "search.click()\n",
        "\n",
        "search.send_keys('아이폰13')\n",
        "search.send_keys(Keys.ENTER)"
      ],
      "metadata": {
        "id": "pLM0VaAJKkJu"
      },
      "execution_count": null,
      "outputs": []
    },
    {
      "cell_type": "markdown",
      "source": [
        "### 아이폰 13 검색페이지에서 무한스크롤 설정하기"
      ],
      "metadata": {
        "id": "0JQBzxWEK5v2"
      }
    },
    {
      "cell_type": "code",
      "source": [
        "#스크롤 전에 높이를 확인\n",
        "# execute_script는 자바스크립트 명령어를 실행가능하게 함\n",
        "before_h = browser.execute_script(\"return window.scrollY\")\n",
        "\n",
        "#무한 스크롤 \n",
        "#무한이니까 while 반복문 사용\n",
        "\n",
        "while True:\n",
        "    #맨 아래로 스크롤을 내린다.\n",
        "    #거의 모든 사이트에 body 키가 존재\n",
        "    browser.find_element_by_css_selector(\"body\").send_keys(Keys.END)\n",
        "    \n",
        "    #스크롤 사이 페이지 로딩시간\n",
        "    time.sleep(1)\n",
        "    \n",
        "    #스크롤 후 높이 체크\n",
        "    after_h=browser.execute_script(\"return window.scrollY\")\n",
        "    \n",
        "    if after_h == before_h: break\n",
        "    before_h = after_h"
      ],
      "metadata": {
        "id": "dtqW7o9kKkZ2"
      },
      "execution_count": null,
      "outputs": []
    },
    {
      "cell_type": "markdown",
      "source": [
        "### 아이폰13 상품정보 데이터 선택하기"
      ],
      "metadata": {
        "id": "WVKQosKZK9LO"
      }
    },
    {
      "cell_type": "markdown",
      "source": [
        "* 상품들을 리스트 형태로 for반복문으로 돌림\n",
        "* 이후 정보 추출하기"
      ],
      "metadata": {
        "id": "3AZGhH-GLMYf"
      }
    },
    {
      "cell_type": "code",
      "source": [
        "#상품 정보 div\n",
        "items = browser.find_elements_by_css_selector(\".basicList_info_area__17Xyo\")  #elements임!!! 차이 구분하기\n",
        "\n",
        "for item in items:\n",
        "    name = item.find_element_by_css_selector(\".basicList_title__3P9Q7\").text #이름 클래스명\n",
        "    price = item.find_element_by_css_selector(\".price_num__2WUXn\").text #가격 클래스명\n",
        "    link = item.find_element_by_css_selector(\".basicList_title__3P9Q7 > a\").get_attribute('href') #get_attribute('속성명') : 속성명의 값을 가지고 올수 있다.\n",
        "    print(name,price,link)"
      ],
      "metadata": {
        "id": "e9yT75IrK9km"
      },
      "execution_count": null,
      "outputs": []
    },
    {
      "cell_type": "code",
      "source": [
        "for item in items:\n",
        "    name = item.find_element_by_css_selector(\".basicList_title__3P9Q7\").text #이름 클래스명\n",
        "    link = item.find_element_by_css_selector(\".basicList_title__3P9Q7 > a\").get_attribute('href') #get_attribute('속성명') : 속성명의 값을 가지고 올수 있다.\n",
        "    #만약 판매 중단이 되어서 price값이 없는 경우\n",
        "    try: price = item.find_element_by_css_selector(\".price_num__2WUXn\").text #가격 클래스명\n",
        "    except: price = \"판매중단\"\n",
        "    \n",
        "    print(name, price, link)"
      ],
      "metadata": {
        "id": "fgEsszFGQTU1"
      },
      "execution_count": null,
      "outputs": []
    },
    {
      "cell_type": "markdown",
      "source": [
        "## csv 파일로 저장하는 법"
      ],
      "metadata": {
        "id": "K0dpD1GLiDlB"
      }
    },
    {
      "cell_type": "code",
      "source": [
        "from selenium import webdriver\n",
        "import time\n",
        "from selenium.webdriver.common.keys import Keys\n",
        "import csv\n",
        "\n",
        "\n",
        "#브라우저 생성\n",
        "browser = webdriver.Chrome(\"C:/chromedriver.exe\")\n",
        "\n",
        "#웹사이트 열기\n",
        "browser.get('http://www.naver.com')\n",
        "browser.implicitly_wait(10)  #로딩이 끝날 때까지 10초까지는 기다려줌\n",
        "\n",
        "#쇼핑 메뉴 클릭\n",
        "browser.find_element_by_css_selector(\"a.nav.shop\").click()\n",
        "time.sleep(2) #쇼핑메뉴 클릭 되기전에 검색창 클릭하는게 수행될수 있으니 써준다\n",
        "\n",
        "\n",
        "#검색창 클릭\n",
        "search = browser.find_element_by_css_selector('input.co_srh_input._input')\n",
        "search.click()\n",
        "\n",
        "search.send_keys('아이폰13')\n",
        "search.send_keys(Keys.ENTER)\n",
        "\n",
        "# ---------------------------------------------------------------------\n",
        "#스크롤 전에 높이를 확인\n",
        "# execute_script는 자바스크립트 명령어를 실행가능하게 함\n",
        "before_h = browser.execute_script(\"return window.scrollY\")\n",
        "\n",
        "#무한 스크롤 \n",
        "#무한이니까 while 반복문 사용\n",
        "\n",
        "while True:\n",
        "    #맨 아래로 스크롤을 내린다.\n",
        "    #거의 모든 사이트에 body 키가 존재\n",
        "    browser.find_element_by_css_selector(\"body\").send_keys(Keys.END)\n",
        "    \n",
        "    #스크롤 사이 페이지 로딩시간\n",
        "    time.sleep(1)\n",
        "    \n",
        "    #스크롤 후 높이 체크\n",
        "    after_h=browser.execute_script(\"return window.scrollY\")\n",
        "    \n",
        "    if after_h == before_h: break\n",
        "    before_h = after_h\n",
        "\n",
        "#-----------------------------------------------\n",
        "\n",
        "# 파일 생성 (경로, 쓰기모드, 인코딩, 자동줄바꿈 없애기)\n",
        "f=open(r'C:\\Users\\akmris00\\Desktop\\기타 코딩파일\\data.csv','w',encoding='CP949',newline=\"\")\n",
        "#윈도우의 경우 자동 줄바꿈이 되어버려서 newline=\"\" 추가하여 자동줄바꿈 없앤다. \n",
        "\n",
        "csv_writer = csv.writer(f) \n",
        "    \n",
        "#-----------------------------------------------\n",
        "#상품 정보 div\n",
        "items = browser.find_elements_by_css_selector(\".basicList_info_area__17Xyo\")  #elements임!!! 차이 구분하기\n",
        "\n",
        "for item in items:\n",
        "    name = item.find_element_by_css_selector(\".basicList_title__3P9Q7\").text #이름 클래스명\n",
        "    link = item.find_element_by_css_selector(\".basicList_title__3P9Q7 > a\").get_attribute('href') #get_attribute('속성명') : 속성명의 값을 가지고 올수 있다.\n",
        "    #만약 판매 중단이 되어서 price값이 없는 경우\n",
        "    try: price = item.find_element_by_css_selector(\".price_num__2WUXn\").text #가격 클래스명\n",
        "    except: price = \"판매중단\"\n",
        "    \n",
        "    print(name, price, link)\n",
        "    \n",
        "    # csv데이터 쓰기\n",
        "    csv_writer.writerow([name,price,link])\n",
        "\n",
        "#csv 파일닫기\n",
        "f.close()"
      ],
      "metadata": {
        "id": "iSRGPFb6iRdZ"
      },
      "execution_count": null,
      "outputs": []
    },
    {
      "cell_type": "markdown",
      "source": [
        "### 여러 페이징 처리"
      ],
      "metadata": {
        "id": "jQyIuOMVSsKs"
      }
    },
    {
      "cell_type": "markdown",
      "source": [
        "* url에서 pageindex가 바뀌는 것 확인하여 만들기"
      ],
      "metadata": {
        "id": "Ep_5q_wmSv4M"
      }
    }
  ]
}