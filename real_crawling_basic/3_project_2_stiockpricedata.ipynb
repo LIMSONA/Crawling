{
  "nbformat": 4,
  "nbformat_minor": 0,
  "metadata": {
    "colab": {
      "name": "3.project_2_stiockpricedata.ipynb",
      "provenance": [],
      "collapsed_sections": [],
      "mount_file_id": "1NgSjakvSAl8RjafmFVxkjtvPudHG-rxg",
      "authorship_tag": "ABX9TyN8OVhzaOWFs3uZsn9nguvD",
      "include_colab_link": true
    },
    "kernelspec": {
      "name": "python3",
      "display_name": "Python 3"
    },
    "language_info": {
      "name": "python"
    }
  },
  "cells": [
    {
      "cell_type": "markdown",
      "metadata": {
        "id": "view-in-github",
        "colab_type": "text"
      },
      "source": [
        "<a href=\"https://colab.research.google.com/github/LIMSONA/Crawling_study/blob/main/3_project_2_stiockpricedata.ipynb\" target=\"_parent\"><img src=\"https://colab.research.google.com/assets/colab-badge.svg\" alt=\"Open In Colab\"/></a>"
      ]
    },
    {
      "cell_type": "markdown",
      "source": [
        "# **네이버 주식 현재가 정보 수집하기**"
      ],
      "metadata": {
        "id": "Nx3hiPdIrxWp"
      }
    },
    {
      "cell_type": "markdown",
      "source": [
        "시세가 id값이 _nowVal\n",
        "url에서 code 파라미터값으로 찾기"
      ],
      "metadata": {
        "id": "Qd6SVBoQsXkA"
      }
    },
    {
      "cell_type": "code",
      "source": [
        "import requests\n",
        "from bs4 import BeautifulSoup"
      ],
      "metadata": {
        "id": "7ZepSIibtH4S"
      },
      "execution_count": null,
      "outputs": []
    },
    {
      "cell_type": "code",
      "source": [
        "url = \"https://finance.naver.com/item/sise.naver?code=005930\"\n",
        "response = requests.get(url)\n",
        "html = response.text\n",
        "soup = BeautifulSoup(html, 'html.parser')\n",
        "price = soup.select_one(\"#_nowVal\")\n",
        "print(price)"
      ],
      "metadata": {
        "colab": {
          "base_uri": "https://localhost:8080/"
        },
        "id": "4jfne7QotVjh",
        "outputId": "18406009-5b7f-43f8-eee9-f43191db893e"
      },
      "execution_count": null,
      "outputs": [
        {
          "output_type": "stream",
          "name": "stdout",
          "text": [
            "<strong class=\"tah p11\" id=\"_nowVal\">77,300</strong>\n"
          ]
        }
      ]
    },
    {
      "cell_type": "code",
      "source": [
        "print(price.text)"
      ],
      "metadata": {
        "colab": {
          "base_uri": "https://localhost:8080/"
        },
        "id": "iUn_gs7pt2w6",
        "outputId": "1f7fcc18-15cf-4571-cec0-5349e9ea787d"
      },
      "execution_count": null,
      "outputs": [
        {
          "output_type": "stream",
          "name": "stdout",
          "text": [
            "77,300\n"
          ]
        }
      ]
    },
    {
      "cell_type": "code",
      "source": [
        "#콤마 없애기\n",
        "print(price.text.replace(\",\",\"\"))"
      ],
      "metadata": {
        "colab": {
          "base_uri": "https://localhost:8080/"
        },
        "id": "tmYs9rJEt6fE",
        "outputId": "61cb47ea-edbd-4d37-cf07-84f5d6bd1e4b"
      },
      "execution_count": null,
      "outputs": [
        {
          "output_type": "stream",
          "name": "stdout",
          "text": [
            "77300\n"
          ]
        }
      ]
    },
    {
      "cell_type": "code",
      "source": [
        "# 종목 코드 리스트\n",
        "\n",
        "codes = [\n",
        "        '005930', #삼성전자\n",
        "        '000660', #SK하이닉스\n",
        "        '035720', #카카오\n",
        "]\n",
        "\n",
        "for code in codes:\n",
        "  url = f\"https://finance.naver.com/item/sise.naver?code={code}\"\n",
        "  response = requests.get(url)\n",
        "  html = response.text\n",
        "  soup = BeautifulSoup(html, 'html.parser')\n",
        "  price = soup.select_one(\"#_nowVal\")\n",
        "  print(price.text)"
      ],
      "metadata": {
        "colab": {
          "base_uri": "https://localhost:8080/"
        },
        "id": "h1ivwJFWuCkJ",
        "outputId": "dd9f40c3-7628-41c3-9328-670c2e33148b"
      },
      "execution_count": null,
      "outputs": [
        {
          "output_type": "stream",
          "name": "stdout",
          "text": [
            "77,400\n",
            "120,000\n",
            "121,000\n"
          ]
        }
      ]
    },
    {
      "cell_type": "markdown",
      "source": [
        "# **파이썬에서 엑셀 다루기**"
      ],
      "metadata": {
        "id": "MrH2YIUpsNRY"
      }
    },
    {
      "cell_type": "markdown",
      "source": [
        "*openpyxl은 파이썬에서 엑셀을 쉽게 다룰 수 있도록 도와주는 라이브러리"
      ],
      "metadata": {
        "id": "WvInIfBBtRYR"
      }
    },
    {
      "cell_type": "code",
      "source": [
        "pip install openpyxl"
      ],
      "metadata": {
        "colab": {
          "base_uri": "https://localhost:8080/"
        },
        "id": "nwgCjxbUv0YM",
        "outputId": "3f9d4ecd-32f9-4d2b-9fe0-7193b90409ca"
      },
      "execution_count": null,
      "outputs": [
        {
          "output_type": "stream",
          "name": "stdout",
          "text": [
            "Requirement already satisfied: openpyxl in /usr/local/lib/python3.7/dist-packages (2.5.9)\n",
            "Requirement already satisfied: jdcal in /usr/local/lib/python3.7/dist-packages (from openpyxl) (1.4.1)\n",
            "Requirement already satisfied: et-xmlfile in /usr/local/lib/python3.7/dist-packages (from openpyxl) (1.1.0)\n"
          ]
        }
      ]
    },
    {
      "cell_type": "code",
      "source": [
        "pip install --upgrade openpyxl"
      ],
      "metadata": {
        "colab": {
          "base_uri": "https://localhost:8080/"
        },
        "id": "KG9KfW37wiqX",
        "outputId": "91a2d3c8-bcff-46bd-aaa3-5ca2e0172dcc"
      },
      "execution_count": null,
      "outputs": [
        {
          "output_type": "stream",
          "name": "stdout",
          "text": [
            "Requirement already satisfied: openpyxl in /usr/local/lib/python3.7/dist-packages (2.5.9)\n",
            "Collecting openpyxl\n",
            "  Downloading openpyxl-3.0.9-py2.py3-none-any.whl (242 kB)\n",
            "\u001b[K     |████████████████████████████████| 242 kB 6.6 MB/s \n",
            "\u001b[?25hRequirement already satisfied: et-xmlfile in /usr/local/lib/python3.7/dist-packages (from openpyxl) (1.1.0)\n",
            "Installing collected packages: openpyxl\n",
            "  Attempting uninstall: openpyxl\n",
            "    Found existing installation: openpyxl 2.5.9\n",
            "    Uninstalling openpyxl-2.5.9:\n",
            "      Successfully uninstalled openpyxl-2.5.9\n",
            "Successfully installed openpyxl-3.0.9\n"
          ]
        }
      ]
    },
    {
      "cell_type": "code",
      "source": [
        "# 1) 엑셀 만들기\n",
        "wb = openpyxl.Workbook()\n",
        "\n",
        "# 2) 엑셀 워크시트 만들기\n",
        "ws = wb.create_sheet('오징어게임')\n",
        "\n",
        "# 3) 데이터 추가하기\n",
        "ws['A1'] = '참가번호'\n",
        "ws['B1'] = '성명'\n",
        "\n",
        "ws['A2'] = 1\n",
        "ws['B2'] = '오일남'\n",
        "\n",
        "# 4) 엑셀 저장하기\n",
        "wb.save(\"참가자_data.xlsx\")"
      ],
      "metadata": {
        "id": "GFjAkKQ3xnvN"
      },
      "execution_count": null,
      "outputs": []
    },
    {
      "cell_type": "code",
      "source": [
        "import openpyxl\n",
        "\n",
        "fpath= r'C:\\Users\\akmris00\\Desktop\\기타 코딩파일\\참가자_data.xlsx'\n",
        "\n",
        "#1) 엑셀 불러오기\n",
        "wb = openpyxl.load_workbook(fpath)\n",
        "\n",
        "#2)  엑셀 시트선택\n",
        "ws = wb['오징어게임']\n",
        "\n",
        "#3) 데이터 수정하기\n",
        "ws['A3'] = 456\n",
        "ws['B3'] = '성기훈'\n",
        "\n",
        "#4) 엑셀 저장하기\n",
        "wb.save(fpath)"
      ],
      "metadata": {
        "id": "jpteFTNewfYV"
      },
      "execution_count": null,
      "outputs": []
    },
    {
      "cell_type": "markdown",
      "source": [
        "# **네이버 주식 현재가 정보 엑셀로 저장하기**"
      ],
      "metadata": {
        "id": "JGcisqgZwbx6"
      }
    },
    {
      "cell_type": "markdown",
      "source": [
        "* 공식문서란? 프로그램을 개발한 사람들이 사용자에게 사용법을 알려주는 사이트"
      ],
      "metadata": {
        "id": "PO3qkHyHwVPT"
      }
    },
    {
      "cell_type": "code",
      "source": [
        "import requests\n",
        "from bs4 import BeautifulSoup\n",
        "import openpyxl\n",
        "\n",
        "fpath=r\"C:\\Users\\akmris00\\Desktop\\기타 코딩파일\\주식data.xlsx\"\n",
        "\n",
        "wb = openpyxl.load_workbook(fpath)\n",
        "\n",
        "ws= wb.active # 현재 활성화된 시트 선택\n",
        "\n",
        "codes = [\n",
        "        '005930', #삼성전자\n",
        "        '000660', #SK하이닉스\n",
        "        '035720', #카카오\n",
        "]\n",
        "\n",
        "row =2\n",
        "\n",
        "for code in codes:\n",
        "  url = f\"https://finance.naver.com/item/sise.naver?code={code}\"\n",
        "  response = requests.get(url)\n",
        "  html = response.text\n",
        "  soup = BeautifulSoup(html, 'html.parser')\n",
        "  price = soup.select_one(\"#_nowVal\").text\n",
        "  print(price)\n",
        "  \n",
        "  ws[f'B{row}'] = int(price) #B열\n",
        "  row+=1\n",
        "  \n",
        "wb.save(fpath)"
      ],
      "metadata": {
        "id": "2zatef9601PL"
      },
      "execution_count": null,
      "outputs": []
    }
  ]
}
