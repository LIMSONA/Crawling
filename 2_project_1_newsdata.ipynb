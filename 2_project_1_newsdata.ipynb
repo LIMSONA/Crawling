{
  "nbformat": 4,
  "nbformat_minor": 0,
  "metadata": {
    "colab": {
      "name": "2.project_1_newsdata.ipynb",
      "provenance": [],
      "collapsed_sections": [],
      "toc_visible": true,
      "mount_file_id": "1YWd_fWcc_BHLjMZ_TknH0qGm5PeV0bdg",
      "authorship_tag": "ABX9TyOrNAPd4jdUzff1SNzW7odY",
      "include_colab_link": true
    },
    "kernelspec": {
      "name": "python3",
      "display_name": "Python 3"
    },
    "language_info": {
      "name": "python"
    }
  },
  "cells": [
    {
      "cell_type": "markdown",
      "metadata": {
        "id": "view-in-github",
        "colab_type": "text"
      },
      "source": [
        "<a href=\"https://colab.research.google.com/github/LIMSONA/Crawling_study/blob/main/2_project_1_newsdata.ipynb\" target=\"_parent\"><img src=\"https://colab.research.google.com/assets/colab-badge.svg\" alt=\"Open In Colab\"/></a>"
      ]
    },
    {
      "cell_type": "markdown",
      "metadata": {
        "id": "gaoFwYLAqb9n"
      },
      "source": [
        "* 태그의 별명은 한명만 가짐\n",
        "* class는 여러 개가 동시에 가질수 있음"
      ]
    },
    {
      "cell_type": "code",
      "metadata": {
        "id": "vdLMZ54VswX0"
      },
      "source": [
        "import requests\n",
        "from bs4 import BeautifulSoup"
      ],
      "execution_count": 1,
      "outputs": []
    },
    {
      "cell_type": "markdown",
      "metadata": {
        "id": "0m0rV1nEug3l"
      },
      "source": [
        "# 헤드라인 뉴스 가져오기"
      ]
    },
    {
      "cell_type": "markdown",
      "metadata": {
        "id": "Q6GrSHBZunEv"
      },
      "source": [
        "## 헤드라인 뉴스 한개 가져오기"
      ]
    },
    {
      "cell_type": "code",
      "metadata": {
        "colab": {
          "base_uri": "https://localhost:8080/"
        },
        "id": "at0Y6wgls64M",
        "outputId": "0237954d-4fcb-4298-d303-3b185265df7c"
      },
      "source": [
        "response = requests.get('https://news.naver.com/')\n",
        "html = response.text\n",
        "soup = BeautifulSoup(html, 'html.parser')\n",
        "\n",
        "title = soup.select_one('.lnk_hdline_article')\n",
        "print(title)"
      ],
      "execution_count": 5,
      "outputs": [
        {
          "output_type": "stream",
          "name": "stdout",
          "text": [
            "None\n"
          ]
        }
      ]
    },
    {
      "cell_type": "code",
      "metadata": {
        "colab": {
          "base_uri": "https://localhost:8080/"
        },
        "id": "SjtXV-lftwPg",
        "outputId": "1e75cab2-347a-4cfa-b5d0-86f1261b82fb"
      },
      "source": [
        "#로봇이 아니라는 것을 알려주기 위해 mozila로 \n",
        "\n",
        "header = {'User-agent': 'Mozila/2.0'}\n",
        "response = requests.get('https://news.naver.com/', headers=header)\n",
        "html = response.text\n",
        "soup = BeautifulSoup(html, 'html.parser')\n",
        "\n",
        "title = soup.select_one('.lnk_hdline_article')\n",
        "print(title)"
      ],
      "execution_count": 7,
      "outputs": [
        {
          "output_type": "stream",
          "name": "stdout",
          "text": [
            "<a class=\"lnk_hdline_article nclicks('mai.text1', '88000107_000000000000000004636662', 'airsGParam', '0', 'news_global_v2.0', 'Yw8PO9ZNxrq1iMVb')\" href=\"/main/read.naver?mode=LSD&amp;mid=shm&amp;sid1=100&amp;oid=015&amp;aid=0004636662\">\n",
            "                                        윤석열 \"이준석에 선거운동 전권 맡긴다…뛰라면 뛰겠다\"\n",
            "                                    </a>\n"
          ]
        }
      ]
    },
    {
      "cell_type": "code",
      "metadata": {
        "colab": {
          "base_uri": "https://localhost:8080/"
        },
        "id": "95JXwfQouBbF",
        "outputId": "c01388a3-fdca-414d-ef2f-da46f2001f7e"
      },
      "source": [
        "print(title.text)"
      ],
      "execution_count": 9,
      "outputs": [
        {
          "output_type": "stream",
          "name": "stdout",
          "text": [
            "\n",
            "                                        윤석열 \"이준석에 선거운동 전권 맡긴다…뛰라면 뛰겠다\"\n",
            "                                    \n"
          ]
        }
      ]
    },
    {
      "cell_type": "code",
      "metadata": {
        "colab": {
          "base_uri": "https://localhost:8080/"
        },
        "id": "NEj-kfhBuT6x",
        "outputId": "be97aa30-e948-47f5-e743-be97dfc61fa2"
      },
      "source": [
        "#양쪽 공백 없애기\n",
        "print(title.text.strip())"
      ],
      "execution_count": 11,
      "outputs": [
        {
          "output_type": "stream",
          "name": "stdout",
          "text": [
            "윤석열 \"이준석에 선거운동 전권 맡긴다…뛰라면 뛰겠다\"\n"
          ]
        }
      ]
    },
    {
      "cell_type": "markdown",
      "metadata": {
        "id": "tGAbPN3FuZpJ"
      },
      "source": [
        "## 헤드라인 뉴스 여러개 가져오기"
      ]
    },
    {
      "cell_type": "code",
      "metadata": {
        "colab": {
          "base_uri": "https://localhost:8080/"
        },
        "id": "vFBCypIPuSdK",
        "outputId": "35f149fd-8e59-45b3-9de0-a20cb5eb9564"
      },
      "source": [
        "#로봇이 아니라는 것을 알려주기 위해 mozila로 \n",
        "\n",
        "header = {'User-agent': 'Mozila/2.0'}\n",
        "response = requests.get('https://news.naver.com/', headers=header)\n",
        "html = response.text\n",
        "soup = BeautifulSoup(html, 'html.parser')\n",
        "\n",
        "titles = soup.select('.lnk_hdline_article') #select로 하면 리스트 형식으로 가져옴\n",
        "print(titles) "
      ],
      "execution_count": 12,
      "outputs": [
        {
          "output_type": "stream",
          "name": "stdout",
          "text": [
            "[<a class=\"lnk_hdline_article nclicks('mai.text1', '8811AD97_000000000000000000266747', 'airsGParam', '0', 'news_global_v2.0', 'ZO9EP11yB2EMLqtA')\" href=\"/main/read.naver?mode=LSD&amp;mid=shm&amp;sid1=101&amp;oid=374&amp;aid=0000266747\">\n",
            "                                        주말 지나면 수도권 사적모임 6명…식당·카페도 방역패스\n",
            "                                    </a>, <a class=\"lnk_hdline_article nclicks('mai.text1', '88127058_000000000000000000778249', 'airsGParam', '0', 'news_global_v2.0', 'ZO9EP11yB2EMLqtA')\" href=\"/main/read.naver?mode=LSD&amp;mid=shm&amp;sid1=104&amp;oid=366&amp;aid=0000778249\">\n",
            "                                        WP “러시아, 내년 초 17만5000명 병력으로 우크라이나 공격 계획”\n",
            "                                    </a>, <a class=\"lnk_hdline_article nclicks('mai.text1', '880000D6_000000000000000000640441', 'airsGParam', '0', 'news_global_v2.0', 'ZO9EP11yB2EMLqtA')\" href=\"/main/read.naver?mode=LSD&amp;mid=shm&amp;sid1=102&amp;oid=031&amp;aid=0000640441\">\n",
            "                                        43년 살다 황혼이혼 한 전처 살해한 80대 남성 징역 18년\n",
            "                                    </a>, <a class=\"lnk_hdline_article nclicks('mai.text1', '880000AF_000000000000000001673196', 'airsGParam', '0', 'news_global_v2.0', 'ZO9EP11yB2EMLqtA')\" href=\"/main/read.naver?mode=LSD&amp;mid=shm&amp;sid1=100&amp;oid=052&amp;aid=0001673196\">\n",
            "                                        윤석열 \"반드시 정권교체\"...이준석 \"젊은 세대 소통 늘려야\"\n",
            "                                    </a>, <a class=\"lnk_hdline_article nclicks('mai.text1', '880000C1_000000000000000000734125', 'airsGParam', '0', 'news_global_v2.0', 'ZO9EP11yB2EMLqtA')\" href=\"/main/read.naver?mode=LSD&amp;mid=shm&amp;sid1=102&amp;oid=088&amp;aid=0000734125\">\n",
            "                                        [속보] 신규확진 5천352명·위중증 752명·사망 70명…모두 역대 최다\n",
            "                                    </a>]\n"
          ]
        }
      ]
    },
    {
      "cell_type": "code",
      "metadata": {
        "colab": {
          "base_uri": "https://localhost:8080/"
        },
        "id": "umtaRQhhu765",
        "outputId": "4367fb9c-90c4-4fcb-964d-b650e8cae938"
      },
      "source": [
        "for i in titles:\n",
        "  print(i.text)"
      ],
      "execution_count": 14,
      "outputs": [
        {
          "output_type": "stream",
          "name": "stdout",
          "text": [
            "\n",
            "                                        주말 지나면 수도권 사적모임 6명…식당·카페도 방역패스\n",
            "                                    \n",
            "\n",
            "                                        WP “러시아, 내년 초 17만5000명 병력으로 우크라이나 공격 계획”\n",
            "                                    \n",
            "\n",
            "                                        43년 살다 황혼이혼 한 전처 살해한 80대 남성 징역 18년\n",
            "                                    \n",
            "\n",
            "                                        윤석열 \"반드시 정권교체\"...이준석 \"젊은 세대 소통 늘려야\"\n",
            "                                    \n",
            "\n",
            "                                        [속보] 신규확진 5천352명·위중증 752명·사망 70명…모두 역대 최다\n",
            "                                    \n"
          ]
        }
      ]
    },
    {
      "cell_type": "code",
      "metadata": {
        "colab": {
          "base_uri": "https://localhost:8080/"
        },
        "id": "RHxEaojivLuw",
        "outputId": "a793255d-e2f4-48bd-8bb0-b9b02c2591d7"
      },
      "source": [
        "for i in titles:\n",
        "  print(i.text.strip())"
      ],
      "execution_count": 15,
      "outputs": [
        {
          "output_type": "stream",
          "name": "stdout",
          "text": [
            "주말 지나면 수도권 사적모임 6명…식당·카페도 방역패스\n",
            "WP “러시아, 내년 초 17만5000명 병력으로 우크라이나 공격 계획”\n",
            "43년 살다 황혼이혼 한 전처 살해한 80대 남성 징역 18년\n",
            "윤석열 \"반드시 정권교체\"...이준석 \"젊은 세대 소통 늘려야\"\n",
            "[속보] 신규확진 5천352명·위중증 752명·사망 70명…모두 역대 최다\n"
          ]
        }
      ]
    },
    {
      "cell_type": "markdown",
      "metadata": {
        "id": "5Zed9rYdv_9b"
      },
      "source": [
        "#뉴스 제목과 링크를 가져오기"
      ]
    },
    {
      "cell_type": "markdown",
      "metadata": {
        "id": "JvN7ObcuwZWs"
      },
      "source": [
        "* 특정 검색어 뉴스의 제목과 링크를 크롤링 해보기\n",
        "\n",
        "* mark: 중요도 표시 태그(굵은 글시)\n",
        "* 제목은 a태그 안쪽 텍스트"
      ]
    },
    {
      "cell_type": "code",
      "metadata": {
        "colab": {
          "base_uri": "https://localhost:8080/"
        },
        "id": "0HsJkMBkqg3_",
        "outputId": "24802822-a13a-4eea-ba00-1c4ed9d14ad9"
      },
      "source": [
        "# id 또는 class 값으로 확인이 가능\n",
        "# class 명이 있음을 확인 -> class 명이니 . 으로 시작\n",
        "\n",
        "import requests\n",
        "from bs4 import BeautifulSoup\n",
        "\n",
        "response = requests.get(\"https://search.naver.com/search.naver?sm=tab_hty.top&where=news&query=%EC%82%BC%EC%84%B1%EC%A0%84%EC%9E%90&oquery=%EC%82%BC%EC%84%B1%EC%A0%84%EC%9E%90&tqi=hjWAzlprvmsssb0HTrRssssssUR-040435\")\n",
        "\n",
        "html = response.text\n",
        "\n",
        "soup = BeautifulSoup (html, 'html.parser')\n",
        "links = soup.select(\".news_tit\") #결과는 리스트\n",
        "\n",
        "for link in links: \n",
        "  title= link.text #태그안에 텍스트요소를 가져온다.\n",
        "  url = link.attrs['href'] #href의 속성값을 가져온다\n",
        "  #attrs : 속성값 모두 출력\n",
        "  print(title,url)"
      ],
      "execution_count": 9,
      "outputs": [
        {
          "output_type": "stream",
          "name": "stdout",
          "text": [
            "\"TSMC 넘을 '반전 카드' 있다\"…격차 벌어져도 삼성전자 웃는 이유 [강경주의... https://www.hankyung.com/economy/article/202112034761g\n",
            "삼성 서두른 이유 있었네…'최대 매출' 찍은 파운드리 시장 http://news.mt.co.kr/mtview.php?no=2021120310003464068\n",
            "이재명 “삼성이 기본소득 얘기하면 어떨까...이재용에도 말해” https://www.chosun.com/politics/politics_general/2021/12/03/BAXAIYN6YJCENH3IJO2IXSME6A/?utm_source=naver&utm_medium=referral&utm_campaign=naver-news\n",
            "삼성경제硏 간 이재명 \"삼성서 기본소득 해보면 어떻겠냐\" http://news.mk.co.kr/newsRead.php?no=1113922&year=2021\n",
            "삼성전자, 배당받고 주식 팔까?…연말연초 주가 보니 http://www.edaily.co.kr/news/newspath.asp?newsid=01338246629275240\n",
            "삼성전자, 카메라 등 TV 주변기기 시장 '눈독' http://www.etnews.com/20211203000160\n",
            "삼성-현대차 “출장-회식 자제” SK “회의-보고 비대면” https://www.donga.com/news/article/all/20211204/110604617/1\n",
            "삼성·LG 등 '연말 방역' 총력전…회식 금지·재택근무 전환(종합) https://view.asiae.co.kr/article/2021120318191801186\n",
            "“김연경 시계인줄” 삼성 배신하고 만든 ‘이것’ 큰 위협? http://news.heraldcorp.com/view.php?ud=20211203000635\n",
            "삼성전자, 산업재해예방 안전 협약식 개최 http://www.newsis.com/view/?id=NISX20211203_0001674923&cID=10803&pID=14000\n"
          ]
        }
      ]
    },
    {
      "cell_type": "markdown",
      "metadata": {
        "id": "CknpauFBwImD"
      },
      "source": [
        "# 검색어에 따라 다른 결과 나타내기 : pyautogui"
      ]
    },
    {
      "cell_type": "markdown",
      "metadata": {
        "id": "rolqNudhumIg"
      },
      "source": [
        "* URL: 인터넷 주소형식\n",
        "* protocol - domain - path - parameter\n",
        "* 예: https://search.naver.com/search.naver?where=nexearch&sm=tab_jum&query=삼성전자\n",
        "\n",
        "* protocol: // 앞까지. http 또는 https\n",
        "* domain: / 앞까지. ip주소에 이름을 준 것\n",
        "* path: ? 앞까지. 서버에서 해당페이지 경로\n",
        "* parameter: ? 뒤에. &로 key와 value가 구분됨\n",
        "  * 키=값 & 키=값.....\n",
        "  * query는 검색어"
      ]
    },
    {
      "cell_type": "code",
      "metadata": {
        "colab": {
          "base_uri": "https://localhost:8080/"
        },
        "id": "FLgFNv7iul0y",
        "outputId": "25800c07-43c8-4360-a445-7998169caf2f"
      },
      "source": [
        "#pyautogui 없이\n",
        "\n",
        "import requests\n",
        "from bs4 import BeautifulSoup\n",
        "\n",
        "keyword= input(\"검색어를 입력하세요>>>\")\n",
        "response = requests.get(\"https://search.naver.com/search.naver?sm=tab_hty.top&where=news&query=\"+ keyword)\n",
        "\n",
        "html = response.text\n",
        "soup = BeautifulSoup (html, 'html.parser')\n",
        "links = soup.select(\".news_tit\") #결과는 리스트\n",
        "\n",
        "for link in links: \n",
        "  title= link.text #태그안에 텍스트요소를 가져온다.\n",
        "  url = link.attrs['href'] #href의 속성값을 가져온다\n",
        "  #attrs : 속성값 모두 출력\n",
        "  print(title,url)"
      ],
      "execution_count": 10,
      "outputs": [
        {
          "output_type": "stream",
          "name": "stdout",
          "text": [
            "검색어를 입력하세요>>>현대자동차\n",
            "아이들이 그린 미래모빌리티…현대차 '키즈모터쇼' http://www.newsis.com/view/?id=NISX20211203_0001674562&cID=13001&pID=13000\n",
            "현대중·현대차 노조 차기 지부장도 ‘강성’…내년 노사관계 한파 오나 http://www.busan.com/view/busan/view.php?code=2021120313380795210\n",
            "현대케피코, 한-말레이 마이크로 EV 생태계 구축 실증사업 참여 http://news.tf.co.kr/read/economy/1903557.htm\n",
            "현대차 '리틀빅 이모션' 영상 '대한민국광고대상' 수상 http://www.fnnews.com/news/202112020832097981\n",
            "“어린이들이 그린 미래車는”…현대차 '브릴리언트 키즈 모터쇼' 진행 http://news.mk.co.kr/newsRead.php?no=1113274&year=2021\n",
            "현대차, 리비아 내전 피해자에 장애인용 차량 2300대 공급 http://www.newsis.com/view/?id=NISX20211202_0001673002&cID=13001&pID=13000\n",
            "삼성-현대차 “출장-회식 자제” SK “회의-보고 비대면” https://www.donga.com/news/article/all/20211204/110604617/1\n",
            "오미크론 확산에…현대차 \"재택근무 강화·회의 인원도 축소\" http://news.mt.co.kr/mtview.php?no=2021120317390830319\n",
            "현대·지엠·기아·닛산 리콜 “8개 차종 5만7천대” http://www.fnnews.com/news/202112011840194471\n",
            "[시승기] 픽업트럭 본고장 美에 도전장 낸 현대차 싼타크루즈 https://biz.chosun.com/industry/car/2021/12/04/JW77MSKUZVHUFABEA5E2CC44OQ/?utm_source=naver&utm_medium=original&utm_campaign=biz\n"
          ]
        }
      ]
    },
    {
      "cell_type": "code",
      "metadata": {
        "colab": {
          "base_uri": "https://localhost:8080/"
        },
        "id": "YcXBe0q0HYE1",
        "outputId": "985d906c-292d-476c-d34d-0c8551f21d2a"
      },
      "source": [
        "!pip install pyautogui"
      ],
      "execution_count": 2,
      "outputs": [
        {
          "output_type": "stream",
          "name": "stdout",
          "text": [
            "Requirement already satisfied: pyautogui in /usr/local/lib/python3.7/dist-packages (0.9.53)\n",
            "Requirement already satisfied: mouseinfo in /usr/local/lib/python3.7/dist-packages (from pyautogui) (0.1.3)\n",
            "Requirement already satisfied: pyscreeze>=0.1.21 in /usr/local/lib/python3.7/dist-packages (from pyautogui) (0.1.28)\n",
            "Requirement already satisfied: pygetwindow>=0.0.5 in /usr/local/lib/python3.7/dist-packages (from pyautogui) (0.0.9)\n",
            "Requirement already satisfied: python3-Xlib in /usr/local/lib/python3.7/dist-packages (from pyautogui) (0.15)\n",
            "Requirement already satisfied: pymsgbox in /usr/local/lib/python3.7/dist-packages (from pyautogui) (1.0.9)\n",
            "Requirement already satisfied: PyTweening>=1.0.1 in /usr/local/lib/python3.7/dist-packages (from pyautogui) (1.0.4)\n",
            "Requirement already satisfied: pyrect in /usr/local/lib/python3.7/dist-packages (from pygetwindow>=0.0.5->pyautogui) (0.1.4)\n",
            "Requirement already satisfied: Pillow>=5.2.0 in /usr/local/lib/python3.7/dist-packages (from pyscreeze>=0.1.21->pyautogui) (7.1.2)\n",
            "Requirement already satisfied: pyperclip in /usr/local/lib/python3.7/dist-packages (from mouseinfo->pyautogui) (1.8.2)\n"
          ]
        }
      ]
    },
    {
      "cell_type": "markdown",
      "metadata": {
        "id": "qvaSiIBXyT_a"
      },
      "source": [
        "* pyautogui란? 마우스,키보드 매크로 라이브러리임. 간단한 입력창 띄우기가 가능\n",
        "* pyautogui라는 팝업창을 띄어서 검색어를 입력하게끔한다."
      ]
    },
    {
      "cell_type": "markdown",
      "metadata": {
        "id": "5kGhwy4rywAL"
      },
      "source": [
        "* pyautogui 입력창은 pyautogui.prompt(\"검색어를 입력하세요.\")"
      ]
    },
    {
      "cell_type": "code",
      "metadata": {
        "colab": {
          "base_uri": "https://localhost:8080/",
          "height": 400
        },
        "id": "1cr1Wqa4yGPd",
        "outputId": "80713410-eb43-4b4e-a580-28c0df38aa48"
      },
      "source": [
        "import pyautogui\n",
        "import requests\n",
        "from bs4 import BeautifulSoup\n",
        "\n",
        "keyword=pyautogui.prompt(\"검색어를 입력하세요>>>\")\n",
        "response = requests.get(f\"https://search.naver.com/search.naver?sm=tab_hty.top&where=news&query={keyword}\" )\n",
        "\n",
        "html = response.text\n",
        "soup = BeautifulSoup (html, 'html.parser')\n",
        "links = soup.select(\".news_tit\") #결과는 리스트\n",
        "\n",
        "for link in links: \n",
        "  title= link.text #태그안에 텍스트요소를 가져온다.\n",
        "  url = link.attrs['href'] #href의 속성값을 가져온다\n",
        "  #attrs : 속성값 모두 출력\n",
        "  print(title,url)"
      ],
      "execution_count": 4,
      "outputs": [
        {
          "output_type": "error",
          "ename": "KeyError",
          "evalue": "ignored",
          "traceback": [
            "\u001b[0;31m---------------------------------------------------------------------------\u001b[0m",
            "\u001b[0;31mKeyError\u001b[0m                                  Traceback (most recent call last)",
            "\u001b[0;32m<ipython-input-4-c00a228d410e>\u001b[0m in \u001b[0;36m<module>\u001b[0;34m()\u001b[0m\n\u001b[0;32m----> 1\u001b[0;31m \u001b[0;32mimport\u001b[0m \u001b[0mpyautogui\u001b[0m\u001b[0;34m\u001b[0m\u001b[0;34m\u001b[0m\u001b[0m\n\u001b[0m\u001b[1;32m      2\u001b[0m \u001b[0;32mimport\u001b[0m \u001b[0mrequests\u001b[0m\u001b[0;34m\u001b[0m\u001b[0;34m\u001b[0m\u001b[0m\n\u001b[1;32m      3\u001b[0m \u001b[0;32mfrom\u001b[0m \u001b[0mbs4\u001b[0m \u001b[0;32mimport\u001b[0m \u001b[0mBeautifulSoup\u001b[0m\u001b[0;34m\u001b[0m\u001b[0;34m\u001b[0m\u001b[0m\n\u001b[1;32m      4\u001b[0m \u001b[0;34m\u001b[0m\u001b[0m\n\u001b[1;32m      5\u001b[0m \u001b[0mkeyword\u001b[0m\u001b[0;34m=\u001b[0m\u001b[0mpyautogui\u001b[0m\u001b[0;34m.\u001b[0m\u001b[0mprompt\u001b[0m\u001b[0;34m(\u001b[0m\u001b[0;34m\"검색어를 입력하세요>>>\"\u001b[0m\u001b[0;34m)\u001b[0m\u001b[0;34m\u001b[0m\u001b[0;34m\u001b[0m\u001b[0m\n",
            "\u001b[0;32m/usr/local/lib/python3.7/dist-packages/pyautogui/__init__.py\u001b[0m in \u001b[0;36m<module>\u001b[0;34m()\u001b[0m\n\u001b[1;32m    247\u001b[0m \u001b[0;34m\u001b[0m\u001b[0m\n\u001b[1;32m    248\u001b[0m \u001b[0;32mtry\u001b[0m\u001b[0;34m:\u001b[0m\u001b[0;34m\u001b[0m\u001b[0;34m\u001b[0m\u001b[0m\n\u001b[0;32m--> 249\u001b[0;31m     \u001b[0;32mimport\u001b[0m \u001b[0mmouseinfo\u001b[0m\u001b[0;34m\u001b[0m\u001b[0;34m\u001b[0m\u001b[0m\n\u001b[0m\u001b[1;32m    250\u001b[0m \u001b[0;34m\u001b[0m\u001b[0m\n\u001b[1;32m    251\u001b[0m     \u001b[0;32mdef\u001b[0m \u001b[0mmouseInfo\u001b[0m\u001b[0;34m(\u001b[0m\u001b[0;34m)\u001b[0m\u001b[0;34m:\u001b[0m\u001b[0;34m\u001b[0m\u001b[0;34m\u001b[0m\u001b[0m\n",
            "\u001b[0;32m/usr/local/lib/python3.7/dist-packages/mouseinfo/__init__.py\u001b[0m in \u001b[0;36m<module>\u001b[0;34m()\u001b[0m\n\u001b[1;32m    221\u001b[0m             \u001b[0;32mraise\u001b[0m\u001b[0;34m\u001b[0m\u001b[0;34m\u001b[0m\u001b[0m\n\u001b[1;32m    222\u001b[0m \u001b[0;34m\u001b[0m\u001b[0m\n\u001b[0;32m--> 223\u001b[0;31m     \u001b[0m_display\u001b[0m \u001b[0;34m=\u001b[0m \u001b[0mDisplay\u001b[0m\u001b[0;34m(\u001b[0m\u001b[0mos\u001b[0m\u001b[0;34m.\u001b[0m\u001b[0menviron\u001b[0m\u001b[0;34m[\u001b[0m\u001b[0;34m'DISPLAY'\u001b[0m\u001b[0;34m]\u001b[0m\u001b[0;34m)\u001b[0m\u001b[0;34m\u001b[0m\u001b[0;34m\u001b[0m\u001b[0m\n\u001b[0m\u001b[1;32m    224\u001b[0m \u001b[0;34m\u001b[0m\u001b[0m\n\u001b[1;32m    225\u001b[0m     \u001b[0;32mdef\u001b[0m \u001b[0m_linuxPosition\u001b[0m\u001b[0;34m(\u001b[0m\u001b[0;34m)\u001b[0m\u001b[0;34m:\u001b[0m\u001b[0;34m\u001b[0m\u001b[0;34m\u001b[0m\u001b[0m\n",
            "\u001b[0;32m/usr/lib/python3.7/os.py\u001b[0m in \u001b[0;36m__getitem__\u001b[0;34m(self, key)\u001b[0m\n\u001b[1;32m    679\u001b[0m         \u001b[0;32mexcept\u001b[0m \u001b[0mKeyError\u001b[0m\u001b[0;34m:\u001b[0m\u001b[0;34m\u001b[0m\u001b[0;34m\u001b[0m\u001b[0m\n\u001b[1;32m    680\u001b[0m             \u001b[0;31m# raise KeyError with the original key value\u001b[0m\u001b[0;34m\u001b[0m\u001b[0;34m\u001b[0m\u001b[0;34m\u001b[0m\u001b[0m\n\u001b[0;32m--> 681\u001b[0;31m             \u001b[0;32mraise\u001b[0m \u001b[0mKeyError\u001b[0m\u001b[0;34m(\u001b[0m\u001b[0mkey\u001b[0m\u001b[0;34m)\u001b[0m \u001b[0;32mfrom\u001b[0m \u001b[0;32mNone\u001b[0m\u001b[0;34m\u001b[0m\u001b[0;34m\u001b[0m\u001b[0m\n\u001b[0m\u001b[1;32m    682\u001b[0m         \u001b[0;32mreturn\u001b[0m \u001b[0mself\u001b[0m\u001b[0;34m.\u001b[0m\u001b[0mdecodevalue\u001b[0m\u001b[0;34m(\u001b[0m\u001b[0mvalue\u001b[0m\u001b[0;34m)\u001b[0m\u001b[0;34m\u001b[0m\u001b[0;34m\u001b[0m\u001b[0m\n\u001b[1;32m    683\u001b[0m \u001b[0;34m\u001b[0m\u001b[0m\n",
            "\u001b[0;31mKeyError\u001b[0m: 'DISPLAY'"
          ]
        }
      ]
    },
    {
      "cell_type": "markdown",
      "metadata": {
        "id": "2OX0vajqwIwJ"
      },
      "source": [
        "# 여러 페이지 결과 모두 가져오기 : 반복문"
      ]
    },
    {
      "cell_type": "markdown",
      "metadata": {
        "id": "l5QMeq9ewI2i"
      },
      "source": [
        "* URL분석하기: 1->2->3 페이지 이동하면서 url 어떻게 변하는지 살펴보자\n",
        "  * cluster_rank 및 start라는 파라미터가 바뀜\n",
        "  * start 값은 규칙을 발견(1페이지는 1, 2페이지는 11, 3페이지는 21....)\n",
        "\n",
        "* for 반복문을 사용하면 됨"
      ]
    },
    {
      "cell_type": "code",
      "metadata": {
        "colab": {
          "base_uri": "https://localhost:8080/"
        },
        "id": "R3l_2PUjJEyX",
        "outputId": "23170ab3-9e72-465c-c6e7-430cbb122e99"
      },
      "source": [
        "# 3페이지까지 가져오기\n",
        "\n",
        "\n",
        "keyword= input(\"검색어를 입력하세요>>>\")\n",
        "\n",
        "for i in range(1,30,10):\n",
        "  response = requests.get(f\"https://search.naver.com/search.naver?sm=tab_hty.top&where=news&query={keyword}&start={i}\")\n",
        "  html = response.text\n",
        "  soup = BeautifulSoup (html, 'html.parser')\n",
        "  links = soup.select(\".news_tit\") #결과는 리스트\n",
        "\n",
        "  for link in links: \n",
        "    title= link.text #태그안에 텍스트요소를 가져온다.\n",
        "    url = link.attrs['href'] #href의 속성값을 가져온다\n",
        "    #attrs : 속성값 모두 출력\n",
        "    print(title,url)"
      ],
      "execution_count": 11,
      "outputs": [
        {
          "output_type": "stream",
          "name": "stdout",
          "text": [
            "검색어를 입력하세요>>>카카오\n",
            "카카오, OECD에 중기 디지털전환 지원 사례 전해 http://www.fnnews.com/news/202112051247127960\n",
            "‘오미크론’ 확산에 네이버·카카오 재택근무 연장…통신사·게임사도 ‘고심... https://biz.chosun.com/it-science/ict/2021/12/05/PN7OBJRIXFA3DN6O5L6XPFGGY4/?utm_source=naver&utm_medium=original&utm_campaign=biz\n",
            "카카오 사회공헌 플랫폼 '같이가치', 올해의 모금함 공개 https://www.news1.kr/articles/?4511926\n",
            "'8조 달러' 글로벌 헬스케어 시장…카카오 등 IT 공룡 가세 http://www.newsis.com/view/?id=NISX20211202_0001673751&cID=13001&pID=13000\n",
            "카카오가 1800억원에 인수한 ‘그립’ 어떤 기업? https://www.mk.co.kr/economy/view/2021/1114356\n",
            "[핫스탁]카카오페이·노랑풍선·미래에셋글로벌리츠(종합) http://www.newsis.com/view/?id=NISX20211203_0001675403&cID=10403&pID=15000\n",
            "카카오뱅크 직원, 시중은행 직원 평균보다 1억 더 벌었다 https://www.etoday.co.kr/news/view/2084209\n",
            "그립 품은 카카오...라이브커머스·카톡 채널 융합 가속 http://www.digitaltoday.co.kr/news/articleView.html?idxno=427179\n",
            "내년 IPO 대어는? LG에너지솔루션·카카오엔터 등 출격 대기 https://economist.co.kr/2021/12/05/finance/Financial/20211205080011658.html\n",
            "고래? 메기?···보험판 흔들 카카오손보 온다 http://news.mt.co.kr/mtview.php?no=2021120312093136657\n",
            "카카오엔터에 '200억 매각 잭팟' 드라마 제작사 대표, 사기죄로 피소 http://moneys.mt.co.kr/news/mwView.php?no=2021120411118068948\n",
            "카카오, ‘그립컴퍼니'에 1800억원 투자…지분 50% 확보 http://www.newsis.com/view/?id=NISX20211202_0001673587&cID=13001&pID=13000\n",
            "카카오뱅크 직원, 시중은행 직원 평균보다 1억 더 벌었다 https://www.etoday.co.kr/news/view/2084209\n",
            "“누가 왕이 될 상인가?”… 네이버·카카오, 콘텐츠 전쟁 ‘대격돌’ http://moneys.mt.co.kr/news/mwView.php?no=2021120316228014602\n",
            "카카오엔터, 'MZ세대 정조준' 로맨스드라마 3편 장전 http://www.newsis.com/view/?id=NISX20211203_0001674736&cID=10601&pID=10600\n",
            "카카오, 라이브커머스 기업 ‘그립컴퍼니’에 투자 http://www.segye.com/content/html/2021/12/03/20211203504973.html?OutUrl=naver\n",
            "GS, 카카오와 동맹…'실핏줄 배송망' 구축 https://www.hankyung.com/economy/article/2021120184781\n",
            "카카오T 연합군에 맞서는 우티… SK 등기이사 교체로 분위기 쇄신 https://biz.chosun.com/it-science/ict/2021/12/03/CZJW2LDWJNAGFKMJK5UABUTYDI/?utm_source=naver&utm_medium=original&utm_campaign=biz\n",
            "그립 품은 카카오...라이브커머스·카톡 채널 융합 가속 http://www.digitaltoday.co.kr/news/articleView.html?idxno=427179\n",
            "디지털 헬스케어 진출 선언한 카카오 https://www.chosun.com/economy/tech_it/2021/12/02/HIEBHKLY2VBFNOZRLAOTQG4YS4/?utm_source=naver&utm_medium=referral&utm_campaign=naver-news\n",
            "[증시이슈] '109만주' 보호예수 풀린 카카오페이, 4%대 급락 https://economist.co.kr/2021/12/03/stock/stockNormal/20211203112636365.html\n",
            "'디지털 헬스케어'서 신성장동력 찾는 카카오…왜? http://www.bloter.net/newsView/blt202112020049\n",
            "\"풍랑 지났나\"…카카오모빌리티, 상장 재시동 http://www.inews24.com/view/1429175\n",
            "카카오 '10년 먹거리' 발굴…김범수-남궁훈 '투톱' 뜬다 https://www.hankyung.com/it/article/202111304169g\n",
            "'비대면 판매채널' 확산 이끌까...카카오손보 등판 초읽기 https://www.ekn.kr/web/view.php?key=20211203010000534\n",
            "카카오엔터, 공정한 멜론차트 운영 위한 '자문회의' 출범 http://www.fnnews.com/news/202112011422414188\n",
            "카카오같이가치, 누적 기부 460억원 넘었다 http://www.segye.com/content/html/2021/12/03/20211203504806.html?OutUrl=naver\n",
            "'카카오T' 택시 6년간 13억번 탔다…택시비만 12조 http://news.mt.co.kr/mtview.php?no=2021120315310360112\n",
            "'7천억 시장' 10억 수익 내는 카카오 이모티콘은 92개 https://www.ytn.co.kr/_ln/0102_202111291400122564\n",
            "네이버·카카오, '품귀 대란' 요소수 전국 주유소 재고 정보 제공 http://www.newsis.com/view/?id=NISX20211129_0001668520&cID=13001&pID=13000\n"
          ]
        }
      ]
    },
    {
      "cell_type": "code",
      "metadata": {
        "colab": {
          "base_uri": "https://localhost:8080/"
        },
        "id": "enhcjkO6K4tK",
        "outputId": "783a9f3d-3835-4a0c-b4b4-e1510fb211d0"
      },
      "source": [
        "# 3페이지까지 가져오기\n",
        "\n",
        "import requests\n",
        "from bs4 import BeautifulSoup\n",
        "\n",
        "keyword= input(\"검색어를 입력하세요>>>\")\n",
        "\n",
        "pageNum=1\n",
        "for i in range(1,30,10):\n",
        "  print(f\"{pageNum}페이지 입니다.==========================\")\n",
        "  response = requests.get(f\"https://search.naver.com/search.naver?sm=tab_hty.top&where=news&query={keyword}&start={i}\")\n",
        "  html = response.text\n",
        "  soup = BeautifulSoup (html, 'html.parser')\n",
        "  links = soup.select(\".news_tit\") #결과는 리스트\n",
        "\n",
        "  for link in links: \n",
        "    title= link.text #태그안에 텍스트요소를 가져온다.\n",
        "    url = link.attrs['href'] #href의 속성값을 가져온다\n",
        "    #attrs : 속성값 모두 출력\n",
        "    print(title,url)\n",
        "  pageNum+=1"
      ],
      "execution_count": 10,
      "outputs": [
        {
          "output_type": "stream",
          "name": "stdout",
          "text": [
            "검색어를 입력하세요>>>카카오\n",
            "1페이지 입니다.==========================\n",
            "카카오, OECD에 중기 디지털전환 지원 사례 전해 http://www.fnnews.com/news/202112051247127960\n",
            "‘오미크론’ 확산에 네이버·카카오 재택근무 연장…통신사·게임사도 ‘고심... https://biz.chosun.com/it-science/ict/2021/12/05/PN7OBJRIXFA3DN6O5L6XPFGGY4/?utm_source=naver&utm_medium=original&utm_campaign=biz\n",
            "카카오 사회공헌 플랫폼 '같이가치', 올해의 모금함 공개 https://www.news1.kr/articles/?4511926\n",
            "'8조 달러' 글로벌 헬스케어 시장…카카오 등 IT 공룡 가세 http://www.newsis.com/view/?id=NISX20211202_0001673751&cID=13001&pID=13000\n",
            "카카오가 1800억원에 인수한 ‘그립’ 어떤 기업? https://www.mk.co.kr/economy/view/2021/1114356\n",
            "[핫스탁]카카오페이·노랑풍선·미래에셋글로벌리츠(종합) http://www.newsis.com/view/?id=NISX20211203_0001675403&cID=10403&pID=15000\n",
            "카카오뱅크 직원, 시중은행 직원 평균보다 1억 더 벌었다 https://www.etoday.co.kr/news/view/2084209\n",
            "그립 품은 카카오...라이브커머스·카톡 채널 융합 가속 http://www.digitaltoday.co.kr/news/articleView.html?idxno=427179\n",
            "내년 IPO 대어는? LG에너지솔루션·카카오엔터 등 출격 대기 https://economist.co.kr/2021/12/05/finance/Financial/20211205080011658.html\n",
            "고래? 메기?···보험판 흔들 카카오손보 온다 http://news.mt.co.kr/mtview.php?no=2021120312093136657\n",
            "2페이지 입니다.==========================\n",
            "카카오엔터에 '200억 매각 잭팟' 드라마 제작사 대표, 사기죄로 피소 http://moneys.mt.co.kr/news/mwView.php?no=2021120411118068948\n",
            "카카오, ‘그립컴퍼니'에 1800억원 투자…지분 50% 확보 http://www.newsis.com/view/?id=NISX20211202_0001673587&cID=13001&pID=13000\n",
            "카카오뱅크 직원, 시중은행 직원 평균보다 1억 더 벌었다 https://www.etoday.co.kr/news/view/2084209\n",
            "“누가 왕이 될 상인가?”… 네이버·카카오, 콘텐츠 전쟁 ‘대격돌’ http://moneys.mt.co.kr/news/mwView.php?no=2021120316228014602\n",
            "카카오엔터, 'MZ세대 정조준' 로맨스드라마 3편 장전 http://www.newsis.com/view/?id=NISX20211203_0001674736&cID=10601&pID=10600\n",
            "카카오, 라이브커머스 기업 ‘그립컴퍼니’에 투자 http://www.segye.com/content/html/2021/12/03/20211203504973.html?OutUrl=naver\n",
            "GS, 카카오와 동맹…'실핏줄 배송망' 구축 https://www.hankyung.com/economy/article/2021120184781\n",
            "카카오T 연합군에 맞서는 우티… SK 등기이사 교체로 분위기 쇄신 https://biz.chosun.com/it-science/ict/2021/12/03/CZJW2LDWJNAGFKMJK5UABUTYDI/?utm_source=naver&utm_medium=original&utm_campaign=biz\n",
            "그립 품은 카카오...라이브커머스·카톡 채널 융합 가속 http://www.digitaltoday.co.kr/news/articleView.html?idxno=427179\n",
            "디지털 헬스케어 진출 선언한 카카오 https://www.chosun.com/economy/tech_it/2021/12/02/HIEBHKLY2VBFNOZRLAOTQG4YS4/?utm_source=naver&utm_medium=referral&utm_campaign=naver-news\n",
            "3페이지 입니다.==========================\n",
            "[증시이슈] '109만주' 보호예수 풀린 카카오페이, 4%대 급락 https://economist.co.kr/2021/12/03/stock/stockNormal/20211203112636365.html\n",
            "'디지털 헬스케어'서 신성장동력 찾는 카카오…왜? http://www.bloter.net/newsView/blt202112020049\n",
            "\"풍랑 지났나\"…카카오모빌리티, 상장 재시동 http://www.inews24.com/view/1429175\n",
            "카카오 '10년 먹거리' 발굴…김범수-남궁훈 '투톱' 뜬다 https://www.hankyung.com/it/article/202111304169g\n",
            "'비대면 판매채널' 확산 이끌까...카카오손보 등판 초읽기 https://www.ekn.kr/web/view.php?key=20211203010000534\n",
            "카카오엔터, 공정한 멜론차트 운영 위한 '자문회의' 출범 http://www.fnnews.com/news/202112011422414188\n",
            "카카오같이가치, 누적 기부 460억원 넘었다 http://www.segye.com/content/html/2021/12/03/20211203504806.html?OutUrl=naver\n",
            "'카카오T' 택시 6년간 13억번 탔다…택시비만 12조 http://news.mt.co.kr/mtview.php?no=2021120315310360112\n",
            "'7천억 시장' 10억 수익 내는 카카오 이모티콘은 92개 https://www.ytn.co.kr/_ln/0102_202111291400122564\n",
            "네이버·카카오, '품귀 대란' 요소수 전국 주유소 재고 정보 제공 http://www.newsis.com/view/?id=NISX20211129_0001668520&cID=13001&pID=13000\n"
          ]
        }
      ]
    },
    {
      "cell_type": "code",
      "metadata": {
        "id": "MPft79YDLaxD"
      },
      "source": [
        "# 원하는 페이지까지 가져오기\n",
        "\n",
        "import requests\n",
        "from bs4 import BeautifulSoup\n",
        "\n",
        "keyword= input(\"검색어를 입력하세요>>>\")\n",
        "lastpage= int(input(\"마지막 페이지번호를 입력해주세요\"))\n",
        "pageNum=1\n",
        "for i in range(1,lastpage*10,10):\n",
        "  print(f\"{pageNum}페이지 입니다.==========================\")\n",
        "  response = requests.get(f\"https://search.naver.com/search.naver?sm=tab_hty.top&where=news&query={keyword}&start={i}\")\n",
        "  html = response.text\n",
        "  soup = BeautifulSoup (html, 'html.parser')\n",
        "  links = soup.select(\".news_tit\") #결과는 리스트\n",
        "\n",
        "  for link in links: \n",
        "    title= link.text #태그안에 텍스트요소를 가져온다.\n",
        "    url = link.attrs['href'] #href의 속성값을 가져온다\n",
        "    #attrs : 속성값 모두 출력\n",
        "    print(title,url)\n",
        "  pageNum+=1"
      ],
      "execution_count": null,
      "outputs": []
    }
  ]
}